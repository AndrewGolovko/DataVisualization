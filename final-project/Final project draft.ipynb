{
 "cells": [
  {
   "cell_type": "markdown",
   "metadata": {},
   "source": [
    "# Final project"
   ]
  },
  {
   "cell_type": "code",
   "execution_count": 2,
   "metadata": {
    "ExecuteTime": {
     "end_time": "2020-01-20T16:27:42.039565Z",
     "start_time": "2020-01-20T16:27:41.799939Z"
    }
   },
   "outputs": [],
   "source": [
    "import pandas as pd"
   ]
  },
  {
   "cell_type": "code",
   "execution_count": 3,
   "metadata": {
    "ExecuteTime": {
     "end_time": "2020-01-20T16:27:42.398897Z",
     "start_time": "2020-01-20T16:27:42.082170Z"
    }
   },
   "outputs": [],
   "source": [
    "# gt = pd.read_csv('climate-change-earth-surface-temperature-data/GlobalTemperatures.zip')\n",
    "# gtc = pd.read_csv('climate-change-earth-surface-temperature-data/GlobalLandTemperaturesByCity.zip')\n",
    "# gtmc = pd.read_csv('climate-change-earth-surface-temperature-data/GlobalLandTemperaturesByMajorCity.zip')\n",
    "# gts = pd.read_csv('climate-change-earth-surface-temperature-data/GlobalLandTemperaturesByState.zip')\n",
    "gtco = pd.read_csv('climate-change-earth-surface-temperature-data/GlobalLandTemperaturesByCountry.zip')"
   ]
  },
  {
   "cell_type": "code",
   "execution_count": 4,
   "metadata": {
    "ExecuteTime": {
     "end_time": "2020-01-20T16:27:42.915541Z",
     "start_time": "2020-01-20T16:27:42.411338Z"
    }
   },
   "outputs": [],
   "source": [
    "import matplotlib.pyplot as plt \n",
    "%matplotlib inline\n",
    "\n",
    "import altair as alt\n",
    "alt.data_transformers.disable_max_rows()\n",
    "from jupyterthemes import jtplot\n",
    "jtplot.style('chesterish')"
   ]
  },
  {
   "cell_type": "markdown",
   "metadata": {},
   "source": [
    "# Temperature dynamics by country"
   ]
  },
  {
   "cell_type": "code",
   "execution_count": 5,
   "metadata": {
    "ExecuteTime": {
     "end_time": "2020-01-20T16:27:43.457589Z",
     "start_time": "2020-01-20T16:27:43.004979Z"
    }
   },
   "outputs": [],
   "source": [
    "import geopandas as gpd\n",
    "from tqdm.notebook import tqdm"
   ]
  },
  {
   "cell_type": "code",
   "execution_count": 6,
   "metadata": {
    "ExecuteTime": {
     "end_time": "2020-01-20T16:27:43.599551Z",
     "start_time": "2020-01-20T16:27:43.466530Z"
    }
   },
   "outputs": [],
   "source": [
    "# world = gpd.GeoDataFrame.from_file('https://raw.githubusercontent.com/AndrewGolovko/DataVisualization/master/hw4/world.geojson')\n",
    "world = gpd.GeoDataFrame.from_file('world.geojson')\n",
    "world.region_un = world.region_un.apply(lambda x: 'Asia' if x == 'Oceania' else x)\n",
    "world = json.loads(world.to_json())"
   ]
  },
  {
   "cell_type": "code",
   "execution_count": null,
   "metadata": {},
   "outputs": [],
   "source": []
  },
  {
   "cell_type": "code",
   "execution_count": null,
   "metadata": {},
   "outputs": [],
   "source": []
  },
  {
   "cell_type": "code",
   "execution_count": 7,
   "metadata": {
    "ExecuteTime": {
     "end_time": "2020-01-20T16:27:44.491956Z",
     "start_time": "2020-01-20T16:27:44.488190Z"
    }
   },
   "outputs": [],
   "source": [
    "country_name_map = \\\n",
    "{\n",
    "    'Bosnia and Herz.': 'Bosnia And Herzegovina',\n",
    "    'Central African Rep.': 'Central African Republic',\n",
    "    \"Côte d'Ivoire\": \"Côte D'Ivoire\",\n",
    "    'Czech Rep.': 'Czech Republic',\n",
    "    'Dem. Rep. Congo': 'Congo (Democratic Republic Of The)',\n",
    "    'Dominican Rep.': 'Dominican Republic',\n",
    "    'Denmark': 'Denmark (Europe)',\n",
    "    'Eq. Guinea': 'Equatorial Guinea',\n",
    "    'Falkland Is.' : 'Falkland Islands (Islas Malvinas)',\n",
    "    'France': 'France (Europe)',\n",
    "    'Guinea-Bissau': 'Guinea-Bissau',\n",
    "    'Lao PDR': 'Laos',\n",
    "    'N. Cyprus': 'Cyprus',\n",
    "    'Netherlands': 'Netherlands (Europe)',\n",
    "    'Solomon Is.': 'Solomon Islands',\n",
    "    'Timor-Leste': 'Timor Leste',\n",
    "    'Trinidad and Tobago': 'Trinidad And Tobago',\n",
    "    'United Kingdom': 'United Kingdom (Europe)',\n",
    "    'W. Sahara': 'Western Sahara',\n",
    "}\n",
    "\n",
    "def country_name_mapper(name):\n",
    "    if name in country_name_map.keys():\n",
    "        return country_name_map[name]\n",
    "    return name"
   ]
  },
  {
   "cell_type": "code",
   "execution_count": 8,
   "metadata": {
    "ExecuteTime": {
     "end_time": "2020-01-20T16:27:45.379310Z",
     "start_time": "2020-01-20T16:27:45.322733Z"
    }
   },
   "outputs": [],
   "source": [
    "gtco_cleaned = gtco.dropna(axis=0)"
   ]
  },
  {
   "cell_type": "code",
   "execution_count": 9,
   "metadata": {
    "ExecuteTime": {
     "end_time": "2020-01-20T16:27:49.762681Z",
     "start_time": "2020-01-20T16:27:45.878065Z"
    }
   },
   "outputs": [
    {
     "data": {
      "application/vnd.jupyter.widget-view+json": {
       "model_id": "80ab2df323aa4415b9d282417a7775a9",
       "version_major": 2,
       "version_minor": 0
      },
      "text/plain": [
       "HBox(children=(FloatProgress(value=0.0, max=175.0), HTML(value='')))"
      ]
     },
     "metadata": {},
     "output_type": "display_data"
    },
    {
     "name": "stdout",
     "output_type": "stream",
     "text": [
      "\n"
     ]
    }
   ],
   "source": [
    "map_data = []\n",
    "# gtco_cleaned = gtco.groupby(['year', 'Country']).mean().reset_index() #gtco.fillna(0)#.dropna(axis=0)\n",
    "for d in tqdm(world['features']):\n",
    "#     print(d['properties']['name'])\n",
    "    country_name = country_name_mapper(d['properties']['name'])\n",
    "    temp_df = gtco_cleaned[gtco_cleaned.Country == country_name]\n",
    "    if temp_df.shape[0] > 0:\n",
    "        map_data.append(\n",
    "            {\n",
    "                'id': d['id'],\n",
    "                'type': d['type'],\n",
    "                'properties': {\n",
    "                    'name': country_name,\n",
    "                    'avg_temp': temp_df['AverageTemperature'].mean(),\n",
    "                },\n",
    "                'geometry': d['geometry']\n",
    "            }\n",
    "        )\n",
    "        \n",
    "\n",
    "gtco_cleaned = gtco_cleaned[gtco_cleaned.Country.isin(pd.DataFrame(list(pd.DataFrame(map_data)['properties'])).name.values)]"
   ]
  },
  {
   "cell_type": "code",
   "execution_count": 60,
   "metadata": {
    "ExecuteTime": {
     "end_time": "2020-01-20T16:44:58.227775Z",
     "start_time": "2020-01-20T16:44:58.218102Z"
    }
   },
   "outputs": [],
   "source": [
    "bg_color = '#F3F7F7'\n",
    "titlecolor = '#3A3F4A'\n",
    "titlesize = 36\n",
    "textcolor = '#5D646F'\n",
    "textsize = 12\n",
    "font = 'Ubuntu Mono'"
   ]
  },
  {
   "cell_type": "code",
   "execution_count": 107,
   "metadata": {
    "ExecuteTime": {
     "end_time": "2020-01-20T16:57:49.713569Z",
     "start_time": "2020-01-20T16:57:49.504693Z"
    }
   },
   "outputs": [],
   "source": [
    "continent_selection = alt.selection_single(\n",
    "    fields = ['Country']\n",
    ")\n",
    "\n",
    "map_ = alt.Chart(\n",
    "    alt.Data(\n",
    "        values = map_data\n",
    "    )\n",
    ").mark_geoshape(\n",
    "    stroke=None\n",
    ").encode(\n",
    "    color = alt.Color(\n",
    "        'avg_temp:Q',\n",
    "        scale=alt.Scale(\n",
    "            range = [\"#00D5E9\", \"#FF5872\"]\n",
    "        ), \n",
    "        legend = None\n",
    "    ),\n",
    "    opacity = alt.condition(\n",
    "        continent_selection, \n",
    "        alt.value(0.9), \n",
    "        alt.value(0.15)\n",
    "    ),\n",
    "    tooltip = alt.Tooltip('Country:N')\n",
    ").add_selection(\n",
    "    continent_selection\n",
    ").transform_calculate(\n",
    "    Country = 'datum.properties.name',\n",
    "    avg_temp = 'datum.properties.avg_temp'\n",
    ").properties(\n",
    "    width = 800, \n",
    "    height = 480\n",
    ")\n",
    "\n",
    "map_;"
   ]
  },
  {
   "cell_type": "code",
   "execution_count": 108,
   "metadata": {
    "ExecuteTime": {
     "end_time": "2020-01-20T16:57:50.347673Z",
     "start_time": "2020-01-20T16:57:50.312521Z"
    }
   },
   "outputs": [],
   "source": [
    "xaxis = alt.Axis(\n",
    "        title='year',\n",
    "#                  titleFontWeight='lighter',\n",
    "                titleFontSize=textsize+2,\n",
    "                 titleFont=font,\n",
    "                 titleAnchor='middle',\n",
    "#                  titleY=200,\n",
    "                 titleColor=textcolor,\n",
    "     domain=False, \n",
    "     ticks=False,\n",
    "                 )\n",
    "\n",
    "yaxis = alt.Axis(\n",
    "        title='temperature moving average (40 years window), °C',\n",
    "#                  titleFontWeight='lighter',\n",
    "                titleFontSize=textsize+2,\n",
    "                 titleFont=font,\n",
    "                 titleAnchor='middle',\n",
    "#                  titleY=200,\n",
    "                 titleColor=textcolor,\n",
    "     domain=False, \n",
    "     ticks=False,\n",
    "                 )\n",
    "\n",
    "chart = alt.Chart(gtco_cleaned).mark_line().encode(\n",
    "    x=alt.X(\n",
    "        'year(dt):T',\n",
    "        axis=xaxis\n",
    "    ),\n",
    "    y=alt.Y(\n",
    "        'mean(moving_average):Q',\n",
    "        scale=alt.Scale(\n",
    "            domain=[-20,30]\n",
    "        ),\n",
    "        axis=yaxis\n",
    "    ),\n",
    "    color=alt.Color(\n",
    "        'Country',\n",
    "        legend=None\n",
    "    ),\n",
    "    opacity = alt.condition(\n",
    "        continent_selection, \n",
    "        alt.value(1), \n",
    "        alt.value(0.05)\n",
    "    ),\n",
    "    tooltip = alt.Tooltip('Country')\n",
    ").transform_window(\n",
    "    frame=[-40, 0],\n",
    "    moving_average='mean(AverageTemperature)'\n",
    ").add_selection(\n",
    "    continent_selection\n",
    ").transform_filter(\n",
    "    'year(datum.dt) > 1880'\n",
    ").properties(\n",
    "    width = 800, \n",
    "    height = 480,\n",
    ")\n",
    "\n",
    "chart;"
   ]
  },
  {
   "cell_type": "code",
   "execution_count": null,
   "metadata": {
    "ExecuteTime": {
     "start_time": "2020-01-20T17:01:06.431Z"
    }
   },
   "outputs": [],
   "source": [
    "alt.hconcat(chart, map_).configure_title(\n",
    "    color=titlecolor,\n",
    "    font=font,\n",
    "    fontSize=titlesize,\n",
    "    anchor='start'\n",
    ").properties(\n",
    "    padding={'left': 20, 'top': 20, 'right': 25, 'bottom': 20},\n",
    "    title=alt.TitleParams('Temperature dynamics by country',anchor='middle', dx=-0),\n",
    "    background=bg_color\n",
    ").configure_view(\n",
    "    stroke=None\n",
    ").configure_axis( \n",
    "     domain=False, \n",
    "     ticks=False,\n",
    "     labelColor = textcolor,\n",
    "     labelFontSize = textsize,\n",
    "     labelFont = font\n",
    ")"
   ]
  },
  {
   "cell_type": "code",
   "execution_count": null,
   "metadata": {},
   "outputs": [],
   "source": []
  },
  {
   "cell_type": "code",
   "execution_count": null,
   "metadata": {},
   "outputs": [],
   "source": []
  },
  {
   "cell_type": "markdown",
   "metadata": {
    "ExecuteTime": {
     "end_time": "2020-01-20T16:43:55.310044Z",
     "start_time": "2020-01-20T16:43:55.305373Z"
    }
   },
   "source": [
    "# Temperature growth by country"
   ]
  },
  {
   "cell_type": "code",
   "execution_count": 36,
   "metadata": {
    "ExecuteTime": {
     "end_time": "2020-01-20T16:38:12.662262Z",
     "start_time": "2020-01-20T16:38:12.487767Z"
    }
   },
   "outputs": [],
   "source": [
    "year = gtco.dt.str[:4].astype(int)\n",
    "temp1900 = gtco[(1900 < year) & (year < 1910)].groupby('Country').mean()[['AverageTemperature']].rename(columns={'AverageTemperature' : '1900s'})"
   ]
  },
  {
   "cell_type": "code",
   "execution_count": 37,
   "metadata": {
    "ExecuteTime": {
     "end_time": "2020-01-20T16:38:13.029005Z",
     "start_time": "2020-01-20T16:38:12.867822Z"
    }
   },
   "outputs": [],
   "source": [
    "year = gtco.dt.str[:4].astype(int)\n",
    "temp2000 = gtco[(2000 < year) & (year < 2010)].groupby('Country').mean()[['AverageTemperature']].rename(columns={'AverageTemperature' : '2000s'})"
   ]
  },
  {
   "cell_type": "code",
   "execution_count": 38,
   "metadata": {
    "ExecuteTime": {
     "end_time": "2020-01-20T16:38:13.421126Z",
     "start_time": "2020-01-20T16:38:13.396498Z"
    }
   },
   "outputs": [
    {
     "name": "stderr",
     "output_type": "stream",
     "text": [
      "/home/andrii/anaconda3/envs/tf_gpu/lib/python3.7/site-packages/ipykernel_launcher.py:1: FutureWarning: Sorting because non-concatenation axis is not aligned. A future version\n",
      "of pandas will change to not sort by default.\n",
      "\n",
      "To accept the future behavior, pass 'sort=False'.\n",
      "\n",
      "To retain the current behavior and silence the warning, pass 'sort=True'.\n",
      "\n",
      "  \"\"\"Entry point for launching an IPython kernel.\n"
     ]
    },
    {
     "data": {
      "text/html": [
       "<div>\n",
       "<style scoped>\n",
       "    .dataframe tbody tr th:only-of-type {\n",
       "        vertical-align: middle;\n",
       "    }\n",
       "\n",
       "    .dataframe tbody tr th {\n",
       "        vertical-align: top;\n",
       "    }\n",
       "\n",
       "    .dataframe thead th {\n",
       "        text-align: right;\n",
       "    }\n",
       "</style>\n",
       "<table border=\"1\" class=\"dataframe\">\n",
       "  <thead>\n",
       "    <tr style=\"text-align: right;\">\n",
       "      <th></th>\n",
       "      <th>country</th>\n",
       "      <th>1900s</th>\n",
       "      <th>2000s</th>\n",
       "      <th>diff</th>\n",
       "    </tr>\n",
       "  </thead>\n",
       "  <tbody>\n",
       "    <tr>\n",
       "      <th>0</th>\n",
       "      <td>Greenland</td>\n",
       "      <td>-19.045880</td>\n",
       "      <td>-17.002259</td>\n",
       "      <td>2.043620</td>\n",
       "    </tr>\n",
       "    <tr>\n",
       "      <th>1</th>\n",
       "      <td>Denmark</td>\n",
       "      <td>-18.508231</td>\n",
       "      <td>-16.472602</td>\n",
       "      <td>2.035630</td>\n",
       "    </tr>\n",
       "    <tr>\n",
       "      <th>2</th>\n",
       "      <td>Svalbard And Jan Mayen</td>\n",
       "      <td>-7.757380</td>\n",
       "      <td>-5.856889</td>\n",
       "      <td>1.900491</td>\n",
       "    </tr>\n",
       "    <tr>\n",
       "      <th>3</th>\n",
       "      <td>Russia</td>\n",
       "      <td>-5.783537</td>\n",
       "      <td>-4.010009</td>\n",
       "      <td>1.773528</td>\n",
       "    </tr>\n",
       "    <tr>\n",
       "      <th>4</th>\n",
       "      <td>Canada</td>\n",
       "      <td>-5.477667</td>\n",
       "      <td>-3.833963</td>\n",
       "      <td>1.643704</td>\n",
       "    </tr>\n",
       "    <tr>\n",
       "      <th>...</th>\n",
       "      <td>...</td>\n",
       "      <td>...</td>\n",
       "      <td>...</td>\n",
       "      <td>...</td>\n",
       "    </tr>\n",
       "    <tr>\n",
       "      <th>235</th>\n",
       "      <td>Burkina Faso</td>\n",
       "      <td>27.508102</td>\n",
       "      <td>28.921935</td>\n",
       "      <td>1.413833</td>\n",
       "    </tr>\n",
       "    <tr>\n",
       "      <th>236</th>\n",
       "      <td>Senegal</td>\n",
       "      <td>27.553713</td>\n",
       "      <td>28.793694</td>\n",
       "      <td>1.239981</td>\n",
       "    </tr>\n",
       "    <tr>\n",
       "      <th>237</th>\n",
       "      <td>Aruba</td>\n",
       "      <td>27.665769</td>\n",
       "      <td>28.724204</td>\n",
       "      <td>1.058435</td>\n",
       "    </tr>\n",
       "    <tr>\n",
       "      <th>238</th>\n",
       "      <td>Mali</td>\n",
       "      <td>27.910769</td>\n",
       "      <td>29.305500</td>\n",
       "      <td>1.394731</td>\n",
       "    </tr>\n",
       "    <tr>\n",
       "      <th>239</th>\n",
       "      <td>Djibouti</td>\n",
       "      <td>28.411741</td>\n",
       "      <td>29.657287</td>\n",
       "      <td>1.245546</td>\n",
       "    </tr>\n",
       "  </tbody>\n",
       "</table>\n",
       "<p>240 rows × 4 columns</p>\n",
       "</div>"
      ],
      "text/plain": [
       "                    country      1900s      2000s      diff\n",
       "0                 Greenland -19.045880 -17.002259  2.043620\n",
       "1                   Denmark -18.508231 -16.472602  2.035630\n",
       "2    Svalbard And Jan Mayen  -7.757380  -5.856889  1.900491\n",
       "3                    Russia  -5.783537  -4.010009  1.773528\n",
       "4                    Canada  -5.477667  -3.833963  1.643704\n",
       "..                      ...        ...        ...       ...\n",
       "235            Burkina Faso  27.508102  28.921935  1.413833\n",
       "236                 Senegal  27.553713  28.793694  1.239981\n",
       "237                   Aruba  27.665769  28.724204  1.058435\n",
       "238                    Mali  27.910769  29.305500  1.394731\n",
       "239                Djibouti  28.411741  29.657287  1.245546\n",
       "\n",
       "[240 rows x 4 columns]"
      ]
     },
     "execution_count": 38,
     "metadata": {},
     "output_type": "execute_result"
    }
   ],
   "source": [
    "tempdiff = pd.concat([temp1900, temp2000], axis=1)\n",
    "tempdiff['diff'] = temp2000['2000s'] - temp1900['1900s']\n",
    "tempdiff = tempdiff.sort_values('1900s').reset_index().rename(columns={'index': 'country'}).dropna(axis=0)\n",
    "tempdiff"
   ]
  },
  {
   "cell_type": "code",
   "execution_count": 39,
   "metadata": {
    "ExecuteTime": {
     "end_time": "2020-01-20T16:38:13.894011Z",
     "start_time": "2020-01-20T16:38:13.891138Z"
    }
   },
   "outputs": [],
   "source": [
    "domain = (0.6, 2.2)\n",
    "color_scale = [\"#00D5E9\", \"#FF5872\"]\n",
    "\n",
    "\n",
    "bg_color = '#F3F7F7'\n",
    "titlecolor = '#3A3F4A'\n",
    "titlesize = 36\n",
    "textcolor = '#5D646F'\n",
    "textsize = 12\n",
    "font = 'Ubuntu Mono'\n",
    "opacity=0.9"
   ]
  },
  {
   "cell_type": "code",
   "execution_count": 40,
   "metadata": {
    "ExecuteTime": {
     "end_time": "2020-01-20T16:38:14.869126Z",
     "start_time": "2020-01-20T16:38:14.862099Z"
    }
   },
   "outputs": [],
   "source": [
    "countries_to_show = ('Greenland', 'Svalbard And Jan Mayen', 'Russia',\n",
    "       'Canada', 'Mongolia', 'Norway', 'Finland', 'Iceland',\n",
    "       'North America', 'Sweden', 'Kyrgyzstan', 'Tajikistan',\n",
    "       'Liechtenstein', 'Estonia',\n",
    "       'Kazakhstan', 'Latvia', 'Belarus', 'Lithuania',\n",
    "       'Austria', 'China',\n",
    "       'Switzerland', 'Poland',\n",
    "       'Slovakia', 'Czech Republic', 'Ukraine',\n",
    "       'Denmark (Europe)', 'Germany', 'Georgia', 'Armenia',\n",
    "       'United States', 'United Kingdom (Europe)',\n",
    "       'Romania', 'Moldova', 'Monaco', 'Netherlands (Europe)',\n",
    "       'Luxembourg', 'Belgium', 'Chile', 'Ireland',\n",
    "       'Slovenia', 'Hungary', 'Serbia', 'New Zealand',\n",
    "       'Montenegro', 'France (Europe)', 'Bosnia And Herzegovina',\n",
    "       'Macedonia', 'Bulgaria', 'Andorra',\n",
    "       'Azerbaijan', 'Croatia', 'Turkey', 'Japan', 'South Korea',\n",
    "       'Bhutan', 'Uzbekistan', 'Albania', 'Italy', 'France', 'Lesotho',\n",
    "       'Spain', 'San Marino', 'Afghanistan', 'Argentina', 'Portugal',\n",
    "       'Turkmenistan', 'Greece', 'Nepal', 'South Africa', 'Uruguay',\n",
    "       'Morocco', 'Iran', 'Lebanon', 'Syria', 'Malta', 'Swaziland',\n",
    "       'Cyprus', 'Rwanda', 'Jordan', 'Israel', 'Tunisia',\n",
    "       'Peru', 'Burundi', 'Namibia', 'Mexico', 'Pakistan', 'Bolivia',\n",
    "       'Zimbabwe', 'Zambia', 'Malawi', 'Australia', 'Botswana',\n",
    "       'Ecuador', 'Angola', 'Iraq', 'Taiwan', 'Libya',\n",
    "       'Tanzania', 'Egypt',\n",
    "       'Madagascar', 'Ethiopia', 'Algeria', 'Guatemala',\n",
    "       'Tonga', 'Uganda', 'Paraguay',\n",
    "       'Mozambique', 'Congo (Democratic Republic Of The)', 'Laos',\n",
    "       'Vietnam', 'Burma', 'Kenya', 'Gabon',\n",
    "       'India', 'Cameroon', 'Papua New Guinea', 'Congo', 'Honduras',\n",
    "       'Colombia', 'Equatorial Guinea', 'El Salvador', 'Fiji', 'Brazil',\n",
    "       'Belize', 'Venezuela', 'Bangladesh', 'Kuwait', 'Bahamas',\n",
    "       'Central African Republic', 'Liberia', 'Guinea', 'Cuba',\n",
    "        'Costa Rica', 'Puerto Rico', 'Saudi Arabia',\n",
    "       'Dominican Republic', 'Indonesia',\n",
    "        'Comoros', \"Côte D'Ivoire\",\n",
    "       'Nicaragua', 'Malaysia',\n",
    "       'Sierra Leone', 'Bahrain',\n",
    "       'Trinidad And Tobago', 'Dominica', 'Jamaica',\n",
    "       'Thailand', 'Yemen', 'Samoa', 'Panama', 'Philippines',\n",
    "       'Haiti',\n",
    "       'Virgin Islands', 'Nigeria', \n",
    "       'Barbados', 'Ghana', 'Solomon Islands', 'Antigua And Barbuda',\n",
    "       'Singapore', 'Seychelles', 'Kiribati', 'Togo', \n",
    "       'Guinea Bissau', \n",
    "       'Federated States Of Micronesia', 'Eritrea',\n",
    "        'Grenada', 'Somalia', 'Cambodia',\n",
    "       'Benin', 'Qatar', 'Oman',\n",
    "       'Palau', 'Chad', 'Sudan', 'Niger',\n",
    "       'Sri Lanka',\n",
    "       'Gambia', 'Mauritania', 'United Arab Emirates', 'Burkina Faso',\n",
    "       'Senegal', 'Mali', 'Djibouti')"
   ]
  },
  {
   "cell_type": "code",
   "execution_count": 41,
   "metadata": {
    "ExecuteTime": {
     "end_time": "2020-01-20T16:38:15.507254Z",
     "start_time": "2020-01-20T16:38:15.485683Z"
    }
   },
   "outputs": [],
   "source": [
    "legend = pd.DataFrame({'diff':np.linspace(0.6,2.2, 9).round(3)})\n",
    "\n",
    "xaxis = alt.Axis(\n",
    "                 title='temperature growth between 1900s and 2000s, °C',\n",
    "                 titleFontWeight='lighter',\n",
    "                 titleFont=font,\n",
    "                titleFontSize=textsize,\n",
    "                 titleAnchor='start',\n",
    "                 titleY=-25,\n",
    "                 titleColor=textcolor,\n",
    "                 grid=False, \n",
    "                 domain=False, \n",
    "                 ticks=False,\n",
    "                 labelAngle = 0,\n",
    "                 labelColor = textcolor,\n",
    "                 labelFontSize = textsize,\n",
    "                 labelFont = font,\n",
    "                 labelAlign='center'\n",
    "                 )\n",
    "\n",
    "legend = alt.Chart(legend).mark_rect(opacity=opacity).encode(\n",
    "    x = alt.X('diff:N', axis=xaxis),\n",
    "    color = alt.Color('diff:Q', legend=None,\n",
    "        scale=alt.Scale(domain=domain, range=color_scale)\n",
    "    )\n",
    ").properties(\n",
    "    height=8, width=1540, title=''\n",
    ")"
   ]
  },
  {
   "cell_type": "code",
   "execution_count": 48,
   "metadata": {
    "ExecuteTime": {
     "end_time": "2020-01-20T16:40:54.581986Z",
     "start_time": "2020-01-20T16:40:54.568178Z"
    }
   },
   "outputs": [],
   "source": [
    "open_close_color = alt.condition(\"datum.1900s < datum.2000s\",\n",
    "                                 alt.value(\"#06982d\"),\n",
    "                                 alt.value(\"#ae1325\"))\n",
    "\n",
    "xaxis = alt.Axis(\n",
    "        title='The lower bound of bar = mean temperature between 1900th and 1910th. The upper bound of bar = mean temperature between 2000th and 2010th.',\n",
    "                 titleFontWeight='lighter',\n",
    "                titleFontSize=textsize+2,\n",
    "                 titleFont=font,\n",
    "                 titleAnchor='start',\n",
    "                 titleY=200,\n",
    "                 titleColor=textcolor\n",
    "                 )\n",
    "\n",
    "yaxis = alt.Axis(\n",
    "        title='mean temperature, °C',\n",
    "#                  titleFontWeight='lighter',\n",
    "                titleFontSize=textsize+2,\n",
    "                 titleFont=font,\n",
    "                 titleAnchor='middle',\n",
    "#                  titleY=200,\n",
    "                 titleColor=textcolor,\n",
    "                 )\n",
    "\n",
    "bar = alt.Chart(tempdiff[tempdiff.country.isin(countries_to_show)]).mark_bar().encode(\n",
    "    x=alt.X(\n",
    "        'country:N',\n",
    "        sort=alt.Sort(field='1900s', order='descending'),\\\n",
    "        axis=xaxis\n",
    "    ),\n",
    "    y=alt.Y('1900s', axis=yaxis),\n",
    "    y2='2000s',\n",
    "    color = alt.Color(\n",
    "        'diff:Q', \n",
    "        legend=None,\n",
    "        scale=alt.Scale(domain=domain, range=[\"#00D5E9\", \"#FF5872\"])\n",
    "    )\n",
    ").properties(\n",
    "    height=480, width=1540, title=''\n",
    ")"
   ]
  },
  {
   "cell_type": "code",
   "execution_count": 49,
   "metadata": {
    "ExecuteTime": {
     "end_time": "2020-01-20T16:40:55.342280Z",
     "start_time": "2020-01-20T16:40:55.295282Z"
    }
   },
   "outputs": [
    {
     "data": {
      "text/html": [
       "\n",
       "<div id=\"altair-viz-22\"></div>\n",
       "<script type=\"text/javascript\">\n",
       "  (function(spec, embedOpt){\n",
       "    const outputDiv = document.getElementById(\"altair-viz-22\");\n",
       "    const paths = {\n",
       "      \"vega\": \"https://cdn.jsdelivr.net/npm//vega@5?noext\",\n",
       "      \"vega-lib\": \"https://cdn.jsdelivr.net/npm//vega-lib?noext\",\n",
       "      \"vega-lite\": \"https://cdn.jsdelivr.net/npm//vega-lite@4.0.0?noext\",\n",
       "      \"vega-embed\": \"https://cdn.jsdelivr.net/npm//vega-embed@6?noext\",\n",
       "    };\n",
       "\n",
       "    function loadScript(lib) {\n",
       "      return new Promise(function(resolve, reject) {\n",
       "        var s = document.createElement('script');\n",
       "        s.src = paths[lib];\n",
       "        s.async = true;\n",
       "        s.onload = () => resolve(paths[lib]);\n",
       "        s.onerror = () => reject(`Error loading script: ${paths[lib]}`);\n",
       "        document.getElementsByTagName(\"head\")[0].appendChild(s);\n",
       "      });\n",
       "    }\n",
       "\n",
       "    function showError(err) {\n",
       "      outputDiv.innerHTML = `<div class=\"error\" style=\"color:red;\">${err}</div>`;\n",
       "      throw err;\n",
       "    }\n",
       "\n",
       "    function displayChart(vegaEmbed) {\n",
       "      vegaEmbed(outputDiv, spec, embedOpt)\n",
       "        .catch(err => showError(`Javascript Error: ${err.message}<br>This usually means there's a typo in your chart specification. See the javascript console for the full traceback.`));\n",
       "    }\n",
       "\n",
       "    if(typeof define === \"function\" && define.amd) {\n",
       "      requirejs.config({paths});\n",
       "      require([\"vega-embed\"], displayChart, err => showError(`Error loading script: ${err.message}`));\n",
       "    } else if (typeof vegaEmbed === \"function\") {\n",
       "      displayChart(vegaEmbed);\n",
       "    } else {\n",
       "      loadScript(\"vega\")\n",
       "        .then(() => loadScript(\"vega-lite\"))\n",
       "        .then(() => loadScript(\"vega-embed\"))\n",
       "        .catch(showError)\n",
       "        .then(() => displayChart(vegaEmbed));\n",
       "    }\n",
       "  })({\"config\": {\"view\": {\"continuousWidth\": 400, \"continuousHeight\": 300, \"stroke\": null}, \"axis\": {\"domain\": false, \"grid\": true, \"labelColor\": \"#5D646F\", \"labelFont\": \"Ubuntu Mono\", \"labelFontSize\": 10, \"ticks\": false, \"title\": null}, \"axisY\": {\"labelFontSize\": 12}, \"title\": {\"anchor\": \"start\", \"color\": \"#3A3F4A\", \"font\": \"Ubuntu Mono\", \"fontSize\": 36}}, \"vconcat\": [{\"data\": {\"name\": \"data-3bbced7d4741e76aba6850004b96db49\"}, \"mark\": {\"type\": \"rect\", \"opacity\": 0.9}, \"encoding\": {\"color\": {\"type\": \"quantitative\", \"field\": \"diff\", \"legend\": null, \"scale\": {\"domain\": [0.6, 2.2], \"range\": [\"#00D5E9\", \"#FF5872\"]}}, \"x\": {\"type\": \"nominal\", \"axis\": {\"domain\": false, \"grid\": false, \"labelAlign\": \"center\", \"labelAngle\": 0, \"labelColor\": \"#5D646F\", \"labelFont\": \"Ubuntu Mono\", \"labelFontSize\": 12, \"ticks\": false, \"title\": \"temperature growth between 1900s and 2000s, \\u00b0C\", \"titleAnchor\": \"start\", \"titleColor\": \"#5D646F\", \"titleFont\": \"Ubuntu Mono\", \"titleFontSize\": 12, \"titleFontWeight\": \"lighter\", \"titleY\": -25}, \"field\": \"diff\"}}, \"height\": 8, \"title\": \"\", \"width\": 1540}, {\"data\": {\"name\": \"data-2615ab50eceeec17851574f372f7d6d0\"}, \"mark\": \"bar\", \"encoding\": {\"color\": {\"type\": \"quantitative\", \"field\": \"diff\", \"legend\": null, \"scale\": {\"domain\": [0.6, 2.2], \"range\": [\"#00D5E9\", \"#FF5872\"]}}, \"x\": {\"type\": \"nominal\", \"axis\": {\"title\": \"The lower bound of bar = mean temperature between 1900th and 1910th. The upper bound of bar = mean temperature between 2000th and 2010th.\", \"titleAnchor\": \"start\", \"titleColor\": \"#5D646F\", \"titleFont\": \"Ubuntu Mono\", \"titleFontSize\": 14, \"titleFontWeight\": \"lighter\", \"titleY\": 200}, \"field\": \"country\", \"sort\": {\"field\": \"1900s\", \"order\": \"descending\"}}, \"y\": {\"type\": \"quantitative\", \"axis\": {\"title\": \"mean temperature, \\u00b0C\", \"titleAnchor\": \"middle\", \"titleColor\": \"#5D646F\", \"titleFont\": \"Ubuntu Mono\", \"titleFontSize\": 14}, \"field\": \"1900s\"}, \"y2\": {\"field\": \"2000s\"}}, \"height\": 480, \"title\": \"\", \"width\": 1540}], \"background\": \"#F3F7F7\", \"padding\": {\"left\": 20, \"top\": 20, \"right\": 25, \"bottom\": 20}, \"title\": {\"text\": \"Temperature growth by country\", \"anchor\": \"middle\", \"dx\": -50}, \"$schema\": \"https://vega.github.io/schema/vega-lite/v4.0.0.json\", \"datasets\": {\"data-3bbced7d4741e76aba6850004b96db49\": [{\"diff\": 0.6}, {\"diff\": 0.8}, {\"diff\": 1.0}, {\"diff\": 1.2}, {\"diff\": 1.4}, {\"diff\": 1.6}, {\"diff\": 1.8}, {\"diff\": 2.0}, {\"diff\": 2.2}], \"data-2615ab50eceeec17851574f372f7d6d0\": [{\"country\": \"Greenland\", \"1900s\": -19.045879629629628, \"2000s\": -17.00225925925926, \"diff\": 2.043620370370366}, {\"country\": \"Svalbard And Jan Mayen\", \"1900s\": -7.757379629629629, \"2000s\": -5.8568888888888875, \"diff\": 1.9004907407407412}, {\"country\": \"Russia\", \"1900s\": -5.78353703703704, \"2000s\": -4.01000925925926, \"diff\": 1.7735277777777796}, {\"country\": \"Canada\", \"1900s\": -5.477666666666666, \"2000s\": -3.83396296296296, \"diff\": 1.6437037037037059}, {\"country\": \"Mongolia\", \"1900s\": -1.2081851851851853, \"2000s\": 0.8390092592592595, \"diff\": 2.047194444444445}, {\"country\": \"Norway\", \"1900s\": -0.09841666666666675, \"2000s\": 1.5250092592592592, \"diff\": 1.623425925925926}, {\"country\": \"Finland\", \"1900s\": 1.0764074074074073, \"2000s\": 2.699435185185185, \"diff\": 1.623027777777778}, {\"country\": \"Iceland\", \"1900s\": 1.2056388888888894, \"2000s\": 2.6156851851851854, \"diff\": 1.410046296296296}, {\"country\": \"North America\", \"1900s\": 1.79425, \"2000s\": 3.2474074074074077, \"diff\": 1.4531574074074078}, {\"country\": \"Sweden\", \"1900s\": 2.201537037037037, \"2000s\": 3.830120370370369, \"diff\": 1.628583333333332}, {\"country\": \"Kyrgyzstan\", \"1900s\": 2.6239351851851853, \"2000s\": 4.66411111111111, \"diff\": 2.0401759259259244}, {\"country\": \"Tajikistan\", \"1900s\": 3.573842592592593, \"2000s\": 5.351805555555558, \"diff\": 1.7779629629629645}, {\"country\": \"Liechtenstein\", \"1900s\": 4.308537037037035, \"2000s\": 5.830703703703704, \"diff\": 1.5221666666666689}, {\"country\": \"Estonia\", \"1900s\": 4.613509259259259, \"2000s\": 6.275703703703704, \"diff\": 1.6621944444444452}, {\"country\": \"Kazakhstan\", \"1900s\": 4.783101851851852, \"2000s\": 6.89710185185185, \"diff\": 2.113999999999997}, {\"country\": \"Latvia\", \"1900s\": 5.06741666666667, \"2000s\": 6.770287037037036, \"diff\": 1.7028703703703663}, {\"country\": \"Belarus\", \"1900s\": 5.514027777777778, \"2000s\": 7.293379629629629, \"diff\": 1.7793518518518514}, {\"country\": \"Lithuania\", \"1900s\": 5.591888888888889, \"2000s\": 7.3289537037037045, \"diff\": 1.7370648148148158}, {\"country\": \"Austria\", \"1900s\": 5.886037037037036, \"2000s\": 7.422342592592595, \"diff\": 1.5363055555555594}, {\"country\": \"China\", \"1900s\": 6.306824074074075, \"2000s\": 7.721185185185184, \"diff\": 1.4143611111111092}, {\"country\": \"Switzerland\", \"1900s\": 6.680898148148147, \"2000s\": 8.206129629629626, \"diff\": 1.5252314814814785}, {\"country\": \"Poland\", \"1900s\": 7.1429444444444465, \"2000s\": 8.782129629629631, \"diff\": 1.6391851851851849}, {\"country\": \"Slovakia\", \"1900s\": 7.197092592592596, \"2000s\": 8.713342592592594, \"diff\": 1.5162499999999985}, {\"country\": \"Czech Republic\", \"1900s\": 7.34614814814815, \"2000s\": 8.897194444444446, \"diff\": 1.5510462962962963}, {\"country\": \"Ukraine\", \"1900s\": 7.502379629629634, \"2000s\": 9.089074074074075, \"diff\": 1.5866944444444409}, {\"country\": \"Denmark (Europe)\", \"1900s\": 7.6168240740740725, \"2000s\": 9.272185185185187, \"diff\": 1.6553611111111142}, {\"country\": \"Germany\", \"1900s\": 7.870296296296297, \"2000s\": 9.45651851851852, \"diff\": 1.586222222222223}, {\"country\": \"Georgia\", \"1900s\": 7.89451851851852, \"2000s\": 9.366083333333334, \"diff\": 1.4715648148148137}, {\"country\": \"Armenia\", \"1900s\": 8.254518518518518, \"2000s\": 9.784962962962968, \"diff\": 1.5304444444444503}, {\"country\": \"United States\", \"1900s\": 8.384518518518519, \"2000s\": 9.646388888888888, \"diff\": 1.261870370370369}, {\"country\": \"United Kingdom (Europe)\", \"1900s\": 8.430342592592593, \"2000s\": 9.796064814814816, \"diff\": 1.3657222222222227}, {\"country\": \"Romania\", \"1900s\": 8.486546296296298, \"2000s\": 9.92463888888889, \"diff\": 1.4380925925925911}, {\"country\": \"Moldova\", \"1900s\": 8.683259259259259, \"2000s\": 10.23799074074074, \"diff\": 1.5547314814814808}, {\"country\": \"Monaco\", \"1900s\": 8.687814814814814, \"2000s\": 10.213814814814818, \"diff\": 1.5260000000000034}, {\"country\": \"Netherlands (Europe)\", \"1900s\": 8.804361111111108, \"2000s\": 10.498416666666666, \"diff\": 1.6940555555555576}, {\"country\": \"Luxembourg\", \"1900s\": 8.836231481481478, \"2000s\": 10.429009259259262, \"diff\": 1.5927777777777834}, {\"country\": \"Belgium\", \"1900s\": 9.150444444444444, \"2000s\": 10.778212962962959, \"diff\": 1.627768518518515}, {\"country\": \"Chile\", \"1900s\": 9.182240740740742, \"2000s\": 9.951, \"diff\": 0.7687592592592587}, {\"country\": \"Ireland\", \"1900s\": 9.187398148148148, \"2000s\": 10.421537037037034, \"diff\": 1.2341388888888858}, {\"country\": \"Slovenia\", \"1900s\": 9.290027777777775, \"2000s\": 10.88325, \"diff\": 1.5932222222222254}, {\"country\": \"Hungary\", \"1900s\": 9.41037037037037, \"2000s\": 10.895148148148143, \"diff\": 1.484777777777774}, {\"country\": \"Serbia\", \"1900s\": 9.736666666666666, \"2000s\": 11.006638888888892, \"diff\": 1.2699722222222256}, {\"country\": \"New Zealand\", \"1900s\": 9.774305555555555, \"2000s\": 10.953777777777775, \"diff\": 1.1794722222222198}, {\"country\": \"Montenegro\", \"1900s\": 9.958518518518519, \"2000s\": 11.124879629629628, \"diff\": 1.1663611111111098}, {\"country\": \"France (Europe)\", \"1900s\": 10.091842592592592, \"2000s\": 11.550305555555553, \"diff\": 1.4584629629629617}, {\"country\": \"Bosnia And Herzegovina\", \"1900s\": 10.113796296296297, \"2000s\": 11.447212962962965, \"diff\": 1.3334166666666682}, {\"country\": \"Macedonia\", \"1900s\": 10.168222222222221, \"2000s\": 11.310453703703702, \"diff\": 1.1422314814814811}, {\"country\": \"Bulgaria\", \"1900s\": 10.241962962962964, \"2000s\": 11.51041666666667, \"diff\": 1.268453703703706}, {\"country\": \"Andorra\", \"1900s\": 10.858953703703708, \"2000s\": 12.295287037037035, \"diff\": 1.4363333333333266}, {\"country\": \"Azerbaijan\", \"1900s\": 10.863222222222221, \"2000s\": 12.558361111111115, \"diff\": 1.6951388888888932}, {\"country\": \"Croatia\", \"1900s\": 11.002037037037034, \"2000s\": 12.481435185185184, \"diff\": 1.4793981481481495}, {\"country\": \"Turkey\", \"1900s\": 11.415046296296298, \"2000s\": 12.603861111111113, \"diff\": 1.1888148148148154}, {\"country\": \"Japan\", \"1900s\": 11.498518518518518, \"2000s\": 12.83821296296296, \"diff\": 1.3396944444444419}, {\"country\": \"South Korea\", \"1900s\": 11.513138888888895, \"2000s\": 12.911287037037043, \"diff\": 1.3981481481481488}, {\"country\": \"Bhutan\", \"1900s\": 11.696990740740747, \"2000s\": 12.51302777777778, \"diff\": 0.8160370370370327}, {\"country\": \"Uzbekistan\", \"1900s\": 11.93121296296296, \"2000s\": 13.804166666666658, \"diff\": 1.8729537037036987}, {\"country\": \"Albania\", \"1900s\": 12.375527777777776, \"2000s\": 13.505444444444446, \"diff\": 1.12991666666667}, {\"country\": \"Italy\", \"1900s\": 12.400759259259258, \"2000s\": 13.840935185185183, \"diff\": 1.4401759259259244}, {\"country\": \"France\", \"1900s\": 12.480444444444446, \"2000s\": 13.889388888888888, \"diff\": 1.4089444444444421}, {\"country\": \"Lesotho\", \"1900s\": 13.227453703703702, \"2000s\": 14.406527777777777, \"diff\": 1.1790740740740748}, {\"country\": \"Spain\", \"1900s\": 13.338638888888886, \"2000s\": 14.611749999999995, \"diff\": 1.2731111111111098}, {\"country\": \"San Marino\", \"1900s\": 13.4615462962963, \"2000s\": 14.992379629629635, \"diff\": 1.5308333333333355}, {\"country\": \"Afghanistan\", \"1900s\": 13.715564814814813, \"2000s\": 15.35096296296296, \"diff\": 1.6353981481481465}, {\"country\": \"Argentina\", \"1900s\": 14.415972222222228, \"2000s\": 15.314120370370377, \"diff\": 0.8981481481481488}, {\"country\": \"Portugal\", \"1900s\": 14.500879629629631, \"2000s\": 15.576074074074075, \"diff\": 1.0751944444444437}, {\"country\": \"Turkmenistan\", \"1900s\": 14.519462962962965, \"2000s\": 16.318268518518515, \"diff\": 1.7988055555555498}, {\"country\": \"Greece\", \"1900s\": 14.544268518518518, \"2000s\": 15.662722222222223, \"diff\": 1.1184537037037057}, {\"country\": \"Nepal\", \"1900s\": 14.781629629629629, \"2000s\": 15.67514814814815, \"diff\": 0.8935185185185208}, {\"country\": \"South Africa\", \"1900s\": 16.707175925925927, \"2000s\": 17.978398148148155, \"diff\": 1.271222222222228}, {\"country\": \"Uruguay\", \"1900s\": 16.93166666666666, \"2000s\": 18.037388888888884, \"diff\": 1.105722222222223}, {\"country\": \"Morocco\", \"1900s\": 17.32867592592592, \"2000s\": 18.719444444444452, \"diff\": 1.3907685185185308}, {\"country\": \"Iran\", \"1900s\": 17.36817592592592, \"2000s\": 19.050527777777777, \"diff\": 1.6823518518518554}, {\"country\": \"Lebanon\", \"1900s\": 17.448972222222235, \"2000s\": 18.67108333333333, \"diff\": 1.2221111111110936}, {\"country\": \"Syria\", \"1900s\": 17.763296296296296, \"2000s\": 18.958231481481477, \"diff\": 1.1949351851851802}, {\"country\": \"Malta\", \"1900s\": 18.19124074074074, \"2000s\": 19.557000000000002, \"diff\": 1.3657592592592636}, {\"country\": \"Swaziland\", \"1900s\": 18.43231481481482, \"2000s\": 19.57561111111111, \"diff\": 1.1432962962962918}, {\"country\": \"Cyprus\", \"1900s\": 18.574129629629635, \"2000s\": 19.827379629629633, \"diff\": 1.2532499999999978}, {\"country\": \"Rwanda\", \"1900s\": 18.964592592592595, \"2000s\": 19.9888425925926, \"diff\": 1.0242500000000057}, {\"country\": \"Jordan\", \"1900s\": 19.189620370370374, \"2000s\": 20.384675925925922, \"diff\": 1.1950555555555482}, {\"country\": \"Israel\", \"1900s\": 19.441935185185184, \"2000s\": 20.674731481481473, \"diff\": 1.2327962962962893}, {\"country\": \"Tunisia\", \"1900s\": 19.536361111111113, \"2000s\": 21.22887037037037, \"diff\": 1.692509259259257}, {\"country\": \"Peru\", \"1900s\": 19.539944444444448, \"2000s\": 20.40257407407407, \"diff\": 0.8626296296296232}, {\"country\": \"Burundi\", \"1900s\": 19.788712962962972, \"2000s\": 20.841500000000003, \"diff\": 1.0527870370370316}, {\"country\": \"Namibia\", \"1900s\": 19.961231481481484, \"2000s\": 21.27812037037038, \"diff\": 1.3168888888888972}, {\"country\": \"Mexico\", \"1900s\": 20.34152777777779, \"2000s\": 21.239388888888893, \"diff\": 0.8978611111111015}, {\"country\": \"Pakistan\", \"1900s\": 20.370074074074076, \"2000s\": 21.730879629629626, \"diff\": 1.360805555555551}, {\"country\": \"Bolivia\", \"1900s\": 20.657990740740736, \"2000s\": 21.35688888888888, \"diff\": 0.6988981481481424}, {\"country\": \"Zimbabwe\", \"1900s\": 20.687314814814822, \"2000s\": 21.739185185185192, \"diff\": 1.05187037037037}, {\"country\": \"Zambia\", \"1900s\": 20.891138888888886, \"2000s\": 21.962444444444444, \"diff\": 1.0713055555555577}, {\"country\": \"Malawi\", \"1900s\": 21.129370370370367, \"2000s\": 22.130129629629632, \"diff\": 1.0007592592592651}, {\"country\": \"Australia\", \"1900s\": 21.289148148148147, \"2000s\": 22.393925925925934, \"diff\": 1.1047777777777874}, {\"country\": \"Botswana\", \"1900s\": 21.335500000000003, \"2000s\": 22.566851851851872, \"diff\": 1.2313518518518691}, {\"country\": \"Ecuador\", \"1900s\": 21.403629629629634, \"2000s\": 22.523314814814814, \"diff\": 1.1196851851851797}, {\"country\": \"Angola\", \"1900s\": 21.403675925925935, \"2000s\": 22.556879629629634, \"diff\": 1.1532037037036993}, {\"country\": \"Iraq\", \"1900s\": 21.62122222222222, \"2000s\": 22.986962962962956, \"diff\": 1.365740740740737}, {\"country\": \"Taiwan\", \"1900s\": 21.64831481481482, \"2000s\": 22.86217592592593, \"diff\": 1.2138611111111075}, {\"country\": \"Libya\", \"1900s\": 21.962407407407404, \"2000s\": 23.357972222222223, \"diff\": 1.3955648148148185}, {\"country\": \"Tanzania\", \"1900s\": 22.031324074074078, \"2000s\": 23.069703703703706, \"diff\": 1.0383796296296275}, {\"country\": \"Egypt\", \"1900s\": 22.423425925925933, \"2000s\": 23.621472222222224, \"diff\": 1.1980462962962903}, {\"country\": \"Madagascar\", \"1900s\": 22.538064814814813, \"2000s\": 23.559592592592594, \"diff\": 1.0215277777777807}, {\"country\": \"Ethiopia\", \"1900s\": 22.621138888888893, \"2000s\": 23.821750000000005, \"diff\": 1.2006111111111117}, {\"country\": \"Algeria\", \"1900s\": 22.624055555555547, \"2000s\": 24.21004629629631, \"diff\": 1.5859907407407619}, {\"country\": \"Guatemala\", \"1900s\": 22.690268518518526, \"2000s\": 23.80075, \"diff\": 1.1104814814814752}, {\"country\": \"Tonga\", \"1900s\": 22.737379629629633, \"2000s\": 23.830166666666667, \"diff\": 1.0927870370370343}, {\"country\": \"Uganda\", \"1900s\": 22.774000000000004, \"2000s\": 23.747324074074086, \"diff\": 0.9733240740740818}, {\"country\": \"Paraguay\", \"1900s\": 23.061509259259264, \"2000s\": 24.116203703703704, \"diff\": 1.05469444444444}, {\"country\": \"Mozambique\", \"1900s\": 23.281342592592583, \"2000s\": 24.294259259259267, \"diff\": 1.0129166666666833}, {\"country\": \"Congo (Democratic Republic Of The)\", \"1900s\": 23.44288888888889, \"2000s\": 24.52346296296296, \"diff\": 1.0805740740740681}, {\"country\": \"Laos\", \"1900s\": 23.45137962962963, \"2000s\": 24.16691666666668, \"diff\": 0.7155370370370484}, {\"country\": \"Vietnam\", \"1900s\": 23.50922222222222, \"2000s\": 24.278462962962976, \"diff\": 0.7692407407407558}, {\"country\": \"Burma\", \"1900s\": 23.57221296296297, \"2000s\": 24.340685185185187, \"diff\": 0.7684722222222184}, {\"country\": \"Kenya\", \"1900s\": 23.785425925925917, \"2000s\": 24.829537037037046, \"diff\": 1.0441111111111283}, {\"country\": \"Gabon\", \"1900s\": 23.796000000000003, \"2000s\": 24.95134259259259, \"diff\": 1.1553425925925858}, {\"country\": \"India\", \"1900s\": 23.823546296296303, \"2000s\": 24.68994444444445, \"diff\": 0.8663981481481464}, {\"country\": \"Cameroon\", \"1900s\": 23.831194444444456, \"2000s\": 25.12053703703704, \"diff\": 1.2893425925925825}, {\"country\": \"Papua New Guinea\", \"1900s\": 24.0285648148148, \"2000s\": 24.92680555555556, \"diff\": 0.8982407407407607}, {\"country\": \"Congo\", \"1900s\": 24.056111111111107, \"2000s\": 25.154277777777768, \"diff\": 1.0981666666666605}, {\"country\": \"Honduras\", \"1900s\": 24.267416666666666, \"2000s\": 25.425129629629637, \"diff\": 1.1577129629629717}, {\"country\": \"Colombia\", \"1900s\": 24.411435185185205, \"2000s\": 25.51173148148148, \"diff\": 1.1002962962962748}, {\"country\": \"Equatorial Guinea\", \"1900s\": 24.41168518518519, \"2000s\": 25.63776851851851, \"diff\": 1.226083333333321}, {\"country\": \"El Salvador\", \"1900s\": 24.46425, \"2000s\": 25.618037037037052, \"diff\": 1.153787037037052}, {\"country\": \"Fiji\", \"1900s\": 24.494814814814823, \"2000s\": 25.634111111111125, \"diff\": 1.1392962962963011}, {\"country\": \"Brazil\", \"1900s\": 24.50867592592593, \"2000s\": 25.602685185185198, \"diff\": 1.0940092592592663}, {\"country\": \"Belize\", \"1900s\": 24.596916666666672, \"2000s\": 25.759925925925945, \"diff\": 1.1630092592592725}, {\"country\": \"Venezuela\", \"1900s\": 24.752805555555543, \"2000s\": 25.869583333333335, \"diff\": 1.1167777777777914}, {\"country\": \"Bangladesh\", \"1900s\": 24.758370370370375, \"2000s\": 25.480037037037036, \"diff\": 0.7216666666666605}, {\"country\": \"Kuwait\", \"1900s\": 24.824203703703695, \"2000s\": 26.33852777777778, \"diff\": 1.5143240740740858}, {\"country\": \"Bahamas\", \"1900s\": 24.82465740740741, \"2000s\": 25.883120370370367, \"diff\": 1.058462962962956}, {\"country\": \"Central African Republic\", \"1900s\": 24.90213888888889, \"2000s\": 26.08545370370371, \"diff\": 1.1833148148148211}, {\"country\": \"Liberia\", \"1900s\": 25.001259259259264, \"2000s\": 26.29059259259259, \"diff\": 1.2893333333333246}, {\"country\": \"Guinea\", \"1900s\": 25.056250000000006, \"2000s\": 26.352870370370365, \"diff\": 1.2966203703703592}, {\"country\": \"Cuba\", \"1900s\": 25.09212037037037, \"2000s\": 26.161703703703704, \"diff\": 1.069583333333334}, {\"country\": \"Costa Rica\", \"1900s\": 25.1507037037037, \"2000s\": 26.378685185185194, \"diff\": 1.2279814814814927}, {\"country\": \"Puerto Rico\", \"1900s\": 25.213824074074072, \"2000s\": 26.366499999999995, \"diff\": 1.152675925925923}, {\"country\": \"Saudi Arabia\", \"1900s\": 25.29562037037037, \"2000s\": 26.64164814814815, \"diff\": 1.3460277777777812}, {\"country\": \"Dominican Republic\", \"1900s\": 25.327018518518518, \"2000s\": 26.473574074074083, \"diff\": 1.1465555555555653}, {\"country\": \"Indonesia\", \"1900s\": 25.380157407407424, \"2000s\": 26.376435185185187, \"diff\": 0.9962777777777632}, {\"country\": \"Comoros\", \"1900s\": 25.447592592592578, \"2000s\": 26.510944444444444, \"diff\": 1.0633518518518663}, {\"country\": \"C\\u00f4te D'Ivoire\", \"1900s\": 25.493212962962954, \"2000s\": 26.839388888888895, \"diff\": 1.346175925925941}, {\"country\": \"Nicaragua\", \"1900s\": 25.532333333333348, \"2000s\": 26.72817592592593, \"diff\": 1.1958425925925837}, {\"country\": \"Malaysia\", \"1900s\": 25.537398148148146, \"2000s\": 26.557555555555556, \"diff\": 1.0201574074074102}, {\"country\": \"Sierra Leone\", \"1900s\": 25.673870370370377, \"2000s\": 26.926472222222223, \"diff\": 1.2526018518518462}, {\"country\": \"Bahrain\", \"1900s\": 25.72161111111111, \"2000s\": 27.220249999999997, \"diff\": 1.4986388888888875}, {\"country\": \"Trinidad And Tobago\", \"1900s\": 25.799398148148157, \"2000s\": 26.974194444444453, \"diff\": 1.1747962962962966}, {\"country\": \"Dominica\", \"1900s\": 25.833824074074087, \"2000s\": 26.99165740740741, \"diff\": 1.157833333333322}, {\"country\": \"Jamaica\", \"1900s\": 25.851787037037038, \"2000s\": 26.893138888888892, \"diff\": 1.0413518518518536}, {\"country\": \"Thailand\", \"1900s\": 25.86039814814814, \"2000s\": 26.633324074074086, \"diff\": 0.7729259259259464}, {\"country\": \"Yemen\", \"1900s\": 25.87464814814814, \"2000s\": 27.201805555555552, \"diff\": 1.3271574074074124}, {\"country\": \"Samoa\", \"1900s\": 25.875064814814838, \"2000s\": 26.975444444444456, \"diff\": 1.100379629629618}, {\"country\": \"Panama\", \"1900s\": 25.87696296296297, \"2000s\": 27.063749999999985, \"diff\": 1.1867870370370142}, {\"country\": \"Philippines\", \"1900s\": 26.06512037037035, \"2000s\": 27.07344444444445, \"diff\": 1.0083240740740997}, {\"country\": \"Haiti\", \"1900s\": 26.070305555555542, \"2000s\": 27.170981481481498, \"diff\": 1.1006759259259553}, {\"country\": \"Virgin Islands\", \"1900s\": 26.102222222222217, \"2000s\": 27.252092592592597, \"diff\": 1.1498703703703796}, {\"country\": \"Nigeria\", \"1900s\": 26.134703703703707, \"2000s\": 27.555083333333325, \"diff\": 1.4203796296296183}, {\"country\": \"Barbados\", \"1900s\": 26.16782407407408, \"2000s\": 27.335935185185196, \"diff\": 1.1681111111111164}, {\"country\": \"Ghana\", \"1900s\": 26.17368518518519, \"2000s\": 27.484999999999985, \"diff\": 1.3113148148147964}, {\"country\": \"Solomon Islands\", \"1900s\": 26.178944444444443, \"2000s\": 27.318444444444456, \"diff\": 1.1395000000000124}, {\"country\": \"Antigua And Barbuda\", \"1900s\": 26.181805555555563, \"2000s\": 27.344111111111108, \"diff\": 1.1623055555555446}, {\"country\": \"Singapore\", \"1900s\": 26.19915740740741, \"2000s\": 27.303212962962967, \"diff\": 1.1040555555555578}, {\"country\": \"Seychelles\", \"1900s\": 26.257055555555553, \"2000s\": 27.5234814814815, \"diff\": 1.2664259259259474}, {\"country\": \"Kiribati\", \"1900s\": 26.30076851851852, \"2000s\": 27.55484259259259, \"diff\": 1.2540740740740688}, {\"country\": \"Togo\", \"1900s\": 26.3065462962963, \"2000s\": 27.631518518518526, \"diff\": 1.3249722222222253}, {\"country\": \"Guinea Bissau\", \"1900s\": 26.365370370370368, \"2000s\": 27.586574074074083, \"diff\": 1.221203703703715}, {\"country\": \"Federated States Of Micronesia\", \"1900s\": 26.3861, \"2000s\": 27.536222222222225, \"diff\": 1.150122222222226}, {\"country\": \"Eritrea\", \"1900s\": 26.407638888888883, \"2000s\": 27.634620370370367, \"diff\": 1.2269814814814843}, {\"country\": \"Grenada\", \"1900s\": 26.440481481481488, \"2000s\": 27.60696296296296, \"diff\": 1.1664814814814726}, {\"country\": \"Somalia\", \"1900s\": 26.45404629629629, \"2000s\": 27.691046296296285, \"diff\": 1.2369999999999948}, {\"country\": \"Cambodia\", \"1900s\": 26.461416666666665, \"2000s\": 27.27507407407408, \"diff\": 0.8136574074074154}, {\"country\": \"Benin\", \"1900s\": 26.566240740740753, \"2000s\": 27.949675925925938, \"diff\": 1.383435185185185}, {\"country\": \"Qatar\", \"1900s\": 26.601583333333338, \"2000s\": 28.13326851851852, \"diff\": 1.5316851851851823}, {\"country\": \"Oman\", \"1900s\": 26.64525, \"2000s\": 28.116407407407408, \"diff\": 1.4711574074074072}, {\"country\": \"Palau\", \"1900s\": 26.691877551020415, \"2000s\": 27.755277777777778, \"diff\": 1.0634002267573628}, {\"country\": \"Chad\", \"1900s\": 26.692037037037046, \"2000s\": 27.938861111111102, \"diff\": 1.2468240740740555}, {\"country\": \"Sudan\", \"1900s\": 26.81905555555556, \"2000s\": 27.886388888888888, \"diff\": 1.0673333333333268}, {\"country\": \"Niger\", \"1900s\": 26.853777777777786, \"2000s\": 28.336972222222222, \"diff\": 1.483194444444436}, {\"country\": \"Sri Lanka\", \"1900s\": 26.89192592592592, \"2000s\": 27.65574074074074, \"diff\": 0.7638148148148183}, {\"country\": \"Gambia\", \"1900s\": 27.11463888888889, \"2000s\": 28.343453703703712, \"diff\": 1.2288148148148217}, {\"country\": \"Mauritania\", \"1900s\": 27.19988888888889, \"2000s\": 28.577416666666664, \"diff\": 1.3775277777777752}, {\"country\": \"United Arab Emirates\", \"1900s\": 27.50114814814815, \"2000s\": 29.03840740740741, \"diff\": 1.5372592592592582}, {\"country\": \"Burkina Faso\", \"1900s\": 27.50810185185185, \"2000s\": 28.921935185185195, \"diff\": 1.4138333333333435}, {\"country\": \"Senegal\", \"1900s\": 27.55371296296296, \"2000s\": 28.79369444444444, \"diff\": 1.2399814814814825}, {\"country\": \"Mali\", \"1900s\": 27.910768518518513, \"2000s\": 29.30550000000001, \"diff\": 1.3947314814814966}, {\"country\": \"Djibouti\", \"1900s\": 28.41174074074074, \"2000s\": 29.657287037037037, \"diff\": 1.2455462962962969}]}}, {\"mode\": \"vega-lite\"});\n",
       "</script>"
      ],
      "text/plain": [
       "alt.VConcatChart(...)"
      ]
     },
     "execution_count": 49,
     "metadata": {},
     "output_type": "execute_result"
    }
   ],
   "source": [
    "chart = alt.vconcat(legend, bar).configure_title(\n",
    "    color=titlecolor,\n",
    "    font=font,\n",
    "    fontSize=titlesize,\n",
    "    anchor='start'\n",
    ").properties(\n",
    "    padding={'left': 20, 'top': 20, 'right': 25, 'bottom': 20},\n",
    "    title=alt.TitleParams('Temperature growth by country',anchor='middle', dx=-50),\n",
    "    background=bg_color\n",
    ").configure_view(\n",
    "    stroke=None\n",
    ").configure_axis(\n",
    "     title=None,\n",
    "     grid=True, \n",
    "     domain=False, \n",
    "     ticks=False,\n",
    "     labelColor = textcolor,\n",
    "     labelFontSize = textsize-2,\n",
    "     labelFont = font\n",
    ").configure_axisY(\n",
    "    labelFontSize = textsize\n",
    ")\n",
    "\n",
    "chart"
   ]
  },
  {
   "cell_type": "code",
   "execution_count": null,
   "metadata": {},
   "outputs": [],
   "source": []
  }
 ],
 "metadata": {
  "kernelspec": {
   "display_name": "Python 3",
   "language": "python",
   "name": "python3"
  },
  "language_info": {
   "codemirror_mode": {
    "name": "ipython",
    "version": 3
   },
   "file_extension": ".py",
   "mimetype": "text/x-python",
   "name": "python",
   "nbconvert_exporter": "python",
   "pygments_lexer": "ipython3",
   "version": "3.7.5"
  },
  "toc": {
   "base_numbering": 1,
   "nav_menu": {},
   "number_sections": true,
   "sideBar": true,
   "skip_h1_title": false,
   "title_cell": "Table of Contents",
   "title_sidebar": "Contents",
   "toc_cell": false,
   "toc_position": {},
   "toc_section_display": true,
   "toc_window_display": false
  },
  "varInspector": {
   "cols": {
    "lenName": 16,
    "lenType": 16,
    "lenVar": 40
   },
   "kernels_config": {
    "python": {
     "delete_cmd_postfix": "",
     "delete_cmd_prefix": "del ",
     "library": "var_list.py",
     "varRefreshCmd": "print(var_dic_list())"
    },
    "r": {
     "delete_cmd_postfix": ") ",
     "delete_cmd_prefix": "rm(",
     "library": "var_list.r",
     "varRefreshCmd": "cat(var_dic_list()) "
    }
   },
   "types_to_exclude": [
    "module",
    "function",
    "builtin_function_or_method",
    "instance",
    "_Feature"
   ],
   "window_display": false
  }
 },
 "nbformat": 4,
 "nbformat_minor": 2
}
